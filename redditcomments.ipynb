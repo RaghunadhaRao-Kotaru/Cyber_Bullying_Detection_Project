{
 "cells": [
  {
   "cell_type": "code",
   "execution_count": 1,
   "id": "fab744a7-bf94-426f-9afd-4f6b800de17b",
   "metadata": {},
   "outputs": [
    {
     "name": "stdout",
     "output_type": "stream",
     "text": [
      "Comments successfully saved to 'reddit_comments2.csv'.\n"
     ]
    }
   ],
   "source": [
    "import praw\n",
    "import pandas as pd\n",
    "\n",
    "def initialize_reddit(client_id, client_secret, user_agent):\n",
    "    return praw.Reddit(client_id=client_id,\n",
    "                       client_secret=client_secret,\n",
    "                       user_agent=user_agent)\n",
    "\n",
    "def fetch_submission_comments(reddit, submission_url):\n",
    "    submission = reddit.submission(url=submission_url)\n",
    "    submission.comments.replace_more(limit=None)  \n",
    "    comments = [comment.body for comment in submission.comments.list()]   \n",
    "    return comments\n",
    "\n",
    "def save_comments_to_csv(comments, file_name=\"reddit_comments2.csv\"):\n",
    "    df = pd.DataFrame(comments, columns=[\"Comment\"])\n",
    "    df.to_csv(file_name, index=False)\n",
    "    print(f\"Comments successfully saved to '{file_name}'.\")\n",
    "\n",
    "if __name__ == \"__main__\":\n",
    "    client_id = \"YaQTdoYsue9Wri9Dj53DCQ\"\n",
    "    client_secret = \"mR4iIri6XyIqbsFiv19HJhlRavXvIA\"\n",
    "    user_agent = \"cyberbullying_detector\"\n",
    "    reddit = initialize_reddit(client_id, client_secret, user_agent)\n",
    "    submission_url = \"https://www.reddit.com/r/politics/comments/jos2uj/discussion_thread_2020_general_election_part_47/\"\n",
    "    comments = fetch_submission_comments(reddit, submission_url)\n",
    "    if comments:\n",
    "        save_comments_to_csv(comments, \"reddit_comments2.csv\")\n",
    "    else:\n",
    "        print(\"No comments found.\")\n"
   ]
  }
 ],
 "metadata": {
  "kernelspec": {
   "display_name": "Python 3 (ipykernel)",
   "language": "python",
   "name": "python3"
  },
  "language_info": {
   "codemirror_mode": {
    "name": "ipython",
    "version": 3
   },
   "file_extension": ".py",
   "mimetype": "text/x-python",
   "name": "python",
   "nbconvert_exporter": "python",
   "pygments_lexer": "ipython3",
   "version": "3.12.4"
  }
 },
 "nbformat": 4,
 "nbformat_minor": 5
}
