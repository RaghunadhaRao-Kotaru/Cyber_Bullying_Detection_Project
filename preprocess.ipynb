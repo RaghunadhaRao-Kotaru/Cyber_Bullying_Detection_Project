{
 "cells": [
  {
   "cell_type": "code",
   "execution_count": 1,
   "id": "19d7dcd3-7639-4d64-b528-fe0ebe564ca3",
   "metadata": {},
   "outputs": [
    {
     "name": "stderr",
     "output_type": "stream",
     "text": [
      "<>:13: SyntaxWarning: invalid escape sequence '\\I'\n",
      "<>:33: SyntaxWarning: invalid escape sequence '\\I'\n",
      "<>:13: SyntaxWarning: invalid escape sequence '\\I'\n",
      "<>:33: SyntaxWarning: invalid escape sequence '\\I'\n",
      "C:\\Users\\ASUS\\AppData\\Local\\Temp\\ipykernel_24568\\3414842839.py:13: SyntaxWarning: invalid escape sequence '\\I'\n",
      "  csv_file_path = 'D:\\Infosys Springboard\\Internship 5.0 Python Tech Stack\\Cyber Bullying Detection Project\\yt_comments1.csv'\n",
      "C:\\Users\\ASUS\\AppData\\Local\\Temp\\ipykernel_24568\\3414842839.py:33: SyntaxWarning: invalid escape sequence '\\I'\n",
      "  output_file_path = 'D:\\Infosys Springboard\\Internship 5.0 Python Tech Stack\\Cyber Bullying Detection Project\\preprocessed_yt.csv'\n",
      "[nltk_data] Downloading package punkt to\n",
      "[nltk_data]     C:\\Users\\ASUS\\AppData\\Roaming\\nltk_data...\n",
      "[nltk_data]   Unzipping tokenizers\\punkt.zip.\n",
      "[nltk_data] Downloading package stopwords to\n",
      "[nltk_data]     C:\\Users\\ASUS\\AppData\\Roaming\\nltk_data...\n",
      "[nltk_data]   Unzipping corpora\\stopwords.zip.\n",
      "[nltk_data] Downloading package wordnet to\n",
      "[nltk_data]     C:\\Users\\ASUS\\AppData\\Roaming\\nltk_data...\n",
      "[nltk_data] Downloading package punkt_tab to\n",
      "[nltk_data]     C:\\Users\\ASUS\\AppData\\Roaming\\nltk_data...\n",
      "[nltk_data]   Unzipping tokenizers\\punkt_tab.zip.\n"
     ]
    },
    {
     "name": "stdout",
     "output_type": "stream",
     "text": [
      "Preprocessed comments saved to D:\\Infosys Springboard\\Internship 5.0 Python Tech Stack\\Cyber Bullying Detection Project\\preprocessed_yt.csv\n"
     ]
    }
   ],
   "source": [
    "import pandas as pd\n",
    "import re\n",
    "import nltk\n",
    "from nltk.corpus import stopwords\n",
    "from nltk.tokenize import word_tokenize\n",
    "from nltk.stem import WordNetLemmatizer\n",
    "\n",
    "nltk.download('punkt')\n",
    "nltk.download('stopwords')\n",
    "nltk.download('wordnet')\n",
    "nltk.download('punkt_tab')\n",
    "\n",
    "csv_file_path = 'D:\\Infosys Springboard\\Internship 5.0 Python Tech Stack\\Cyber Bullying Detection Project\\yt_comments1.csv' \n",
    "df = pd.read_csv(csv_file_path)\n",
    "comments = df['Comment'].tolist()\n",
    "\n",
    "def preprocess_comments(comments):\n",
    "    comments = [str(comment).lower() for comment in comments if isinstance(comment, str) or isinstance(comment, float) and not pd.isna(comment)]\n",
    "    comments = [re.sub(r'http\\S+|www\\S+|https\\S+', '', comment, flags=re.MULTILINE) for comment in comments]\n",
    "    comments = [re.sub(r'\\W+', ' ', comment) for comment in comments] \n",
    "    stop_words = set(stopwords.words('english'))\n",
    "    comments = [' '.join([word for word in comment.split() if word not in stop_words]) for comment in comments]\n",
    "    tokenized_comments = [word_tokenize(comment) for comment in comments]\n",
    "    lemmatizer = WordNetLemmatizer()\n",
    "    lemmatized_comments = [[lemmatizer.lemmatize(word) for word in comment] for comment in tokenized_comments]\n",
    "    cleaned_comments = [[word for word in comment if len(word) > 1] for comment in lemmatized_comments]\n",
    "    final_comments = [' '.join(comment) for comment in cleaned_comments]\n",
    "    \n",
    "    return final_comments\n",
    "\n",
    "preprocessed_comments = preprocess_comments(comments)\n",
    "preprocessed_df = pd.DataFrame(preprocessed_comments, columns=['preprocessed_comments'])\n",
    "output_file_path = 'D:\\Infosys Springboard\\Internship 5.0 Python Tech Stack\\Cyber Bullying Detection Project\\preprocessed_yt.csv'\n",
    "preprocessed_df.to_csv(output_file_path, index=False) \n",
    "print(f\"Preprocessed comments saved to {output_file_path}\")"
   ]
  },
  {
   "cell_type": "code",
   "execution_count": null,
   "id": "b4fac4a1-b02b-42ec-8a0f-1bc357a4c579",
   "metadata": {},
   "outputs": [],
   "source": []
  }
 ],
 "metadata": {
  "kernelspec": {
   "display_name": "Python 3 (ipykernel)",
   "language": "python",
   "name": "python3"
  },
  "language_info": {
   "codemirror_mode": {
    "name": "ipython",
    "version": 3
   },
   "file_extension": ".py",
   "mimetype": "text/x-python",
   "name": "python",
   "nbconvert_exporter": "python",
   "pygments_lexer": "ipython3",
   "version": "3.12.4"
  }
 },
 "nbformat": 4,
 "nbformat_minor": 5
}
